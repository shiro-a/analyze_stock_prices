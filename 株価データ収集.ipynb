{
  "nbformat": 4,
  "nbformat_minor": 0,
  "metadata": {
    "colab": {
      "provenance": [],
      "toc_visible": true,
      "authorship_tag": "ABX9TyNNsToIE9WBALUeKWotzrO6",
      "include_colab_link": true
    },
    "kernelspec": {
      "name": "python3",
      "display_name": "Python 3"
    },
    "language_info": {
      "name": "python"
    }
  },
  "cells": [
    {
      "cell_type": "markdown",
      "metadata": {
        "id": "view-in-github",
        "colab_type": "text"
      },
      "source": [
        "<a href=\"https://colab.research.google.com/github/shiro-a/analyze_stock_prices/blob/main/%E6%A0%AA%E4%BE%A1%E3%83%87%E3%83%BC%E3%82%BF%E5%8F%8E%E9%9B%86.ipynb\" target=\"_parent\"><img src=\"https://colab.research.google.com/assets/colab-badge.svg\" alt=\"Open In Colab\"/></a>"
      ]
    },
    {
      "cell_type": "code",
      "execution_count": null,
      "metadata": {
        "id": "HyuGa1a9AlO3"
      },
      "outputs": [],
      "source": [
        "# prompt: 日経平均株価、SP500、NASDAQ、ダウ平均のデータを収集したい\n",
        "\n",
        "!pip install yfinance\n",
        "\n",
        "import yfinance as yf\n",
        "import pandas as pd\n",
        "\n",
        "def get_stock_data(ticker, start_date, end_date):\n",
        "  \"\"\"\n",
        "  指定されたティッカーシンボル、開始日、終了日の株価データを取得します。\n",
        "\n",
        "  Args:\n",
        "    ticker: 株価データを取得するティッカーシンボル（例： \"^N225\" for 日経平均）。\n",
        "    start_date: データ取得の開始日（YYYY-MM-DD形式）。\n",
        "    end_date: データ取得の終了日（YYYY-MM-DD形式）。\n",
        "\n",
        "  Returns:\n",
        "    指定された期間の株価データを含むpandas.DataFrame。\n",
        "    エラーが発生した場合は、Noneを返します。\n",
        "  \"\"\"\n",
        "  try:\n",
        "    data = yf.download(ticker, start=start_date, end=end_date)\n",
        "    return data\n",
        "  except Exception as e:\n",
        "    print(f\"Error fetching data for {ticker}: {e}\")\n",
        "    return None\n",
        "\n",
        "# 株価データを取得するティッカーシンボルと期間を指定します\n",
        "tickers = {\n",
        "    \"日経平均\": \"^N225\",\n",
        "    \"S&P 500\": \"^GSPC\",\n",
        "    \"NASDAQ\": \"^IXIC\",\n",
        "    \"ダウ平均\": \"^DJI\"\n",
        "}\n",
        "start_date = \"2023-01-01\"\n",
        "end_date = \"2023-12-31\"\n",
        "\n",
        "# 各株価データを取得し、DataFrameに格納します\n",
        "stock_data = {}\n",
        "for name, ticker in tickers.items():\n",
        "    data = get_stock_data(ticker, start_date, end_date)\n",
        "    if data is not None:\n",
        "        stock_data[name] = data\n",
        "\n",
        "# 取得したデータを処理します（例：表示）\n",
        "for name, data in stock_data.items():\n",
        "    if data is not None:\n",
        "      print(f\"\\n{name} 株価データ:\")\n",
        "      print(data.head()) # 最初の5行を表示\n",
        "      # 必要なデータの分析や可視化を行うことができます\n",
        "\n",
        "# 必要に応じてデータをファイルに保存します。\n",
        "# 例えば、CSVファイルに保存：\n",
        "# for name, data in stock_data.items():\n",
        "#    if data is not None:\n",
        "#       data.to_csv(f\"{name}_stock_data.csv\")\n"
      ]
    }
  ]
}