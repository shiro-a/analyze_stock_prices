{
  "nbformat": 4,
  "nbformat_minor": 0,
  "metadata": {
    "colab": {
      "provenance": [],
      "toc_visible": true,
      "authorship_tag": "ABX9TyN/NKhs9hGm499sofI/k6K+",
      "include_colab_link": true
    },
    "kernelspec": {
      "name": "python3",
      "display_name": "Python 3"
    },
    "language_info": {
      "name": "python"
    }
  },
  "cells": [
    {
      "cell_type": "markdown",
      "metadata": {
        "id": "view-in-github",
        "colab_type": "text"
      },
      "source": [
        "<a href=\"https://colab.research.google.com/github/shiro-a/analyze_stock_prices/blob/main/%E6%A0%AA%E4%BE%A1%E3%83%87%E3%83%BC%E3%82%BF%E5%8F%8E%E9%9B%86.ipynb\" target=\"_parent\"><img src=\"https://colab.research.google.com/assets/colab-badge.svg\" alt=\"Open In Colab\"/></a>"
      ]
    },
    {
      "cell_type": "code",
      "execution_count": 1,
      "metadata": {
        "id": "HyuGa1a9AlO3",
        "colab": {
          "base_uri": "https://localhost:8080/"
        },
        "outputId": "cd751c72-f5ca-42db-a777-cebda7b9f856"
      },
      "outputs": [
        {
          "output_type": "stream",
          "name": "stdout",
          "text": [
            "Requirement already satisfied: yfinance in /usr/local/lib/python3.11/dist-packages (0.2.52)\n",
            "Requirement already satisfied: pandas>=1.3.0 in /usr/local/lib/python3.11/dist-packages (from yfinance) (2.2.2)\n",
            "Requirement already satisfied: numpy>=1.16.5 in /usr/local/lib/python3.11/dist-packages (from yfinance) (1.26.4)\n",
            "Requirement already satisfied: requests>=2.31 in /usr/local/lib/python3.11/dist-packages (from yfinance) (2.32.3)\n",
            "Requirement already satisfied: multitasking>=0.0.7 in /usr/local/lib/python3.11/dist-packages (from yfinance) (0.0.11)\n",
            "Requirement already satisfied: lxml>=4.9.1 in /usr/local/lib/python3.11/dist-packages (from yfinance) (5.3.1)\n",
            "Requirement already satisfied: platformdirs>=2.0.0 in /usr/local/lib/python3.11/dist-packages (from yfinance) (4.3.6)\n",
            "Requirement already satisfied: pytz>=2022.5 in /usr/local/lib/python3.11/dist-packages (from yfinance) (2025.1)\n",
            "Requirement already satisfied: frozendict>=2.3.4 in /usr/local/lib/python3.11/dist-packages (from yfinance) (2.4.6)\n",
            "Requirement already satisfied: peewee>=3.16.2 in /usr/local/lib/python3.11/dist-packages (from yfinance) (3.17.9)\n",
            "Requirement already satisfied: beautifulsoup4>=4.11.1 in /usr/local/lib/python3.11/dist-packages (from yfinance) (4.13.3)\n",
            "Requirement already satisfied: html5lib>=1.1 in /usr/local/lib/python3.11/dist-packages (from yfinance) (1.1)\n",
            "Requirement already satisfied: soupsieve>1.2 in /usr/local/lib/python3.11/dist-packages (from beautifulsoup4>=4.11.1->yfinance) (2.6)\n",
            "Requirement already satisfied: typing-extensions>=4.0.0 in /usr/local/lib/python3.11/dist-packages (from beautifulsoup4>=4.11.1->yfinance) (4.12.2)\n",
            "Requirement already satisfied: six>=1.9 in /usr/local/lib/python3.11/dist-packages (from html5lib>=1.1->yfinance) (1.17.0)\n",
            "Requirement already satisfied: webencodings in /usr/local/lib/python3.11/dist-packages (from html5lib>=1.1->yfinance) (0.5.1)\n",
            "Requirement already satisfied: python-dateutil>=2.8.2 in /usr/local/lib/python3.11/dist-packages (from pandas>=1.3.0->yfinance) (2.8.2)\n",
            "Requirement already satisfied: tzdata>=2022.7 in /usr/local/lib/python3.11/dist-packages (from pandas>=1.3.0->yfinance) (2025.1)\n",
            "Requirement already satisfied: charset-normalizer<4,>=2 in /usr/local/lib/python3.11/dist-packages (from requests>=2.31->yfinance) (3.4.1)\n",
            "Requirement already satisfied: idna<4,>=2.5 in /usr/local/lib/python3.11/dist-packages (from requests>=2.31->yfinance) (3.10)\n",
            "Requirement already satisfied: urllib3<3,>=1.21.1 in /usr/local/lib/python3.11/dist-packages (from requests>=2.31->yfinance) (2.3.0)\n",
            "Requirement already satisfied: certifi>=2017.4.17 in /usr/local/lib/python3.11/dist-packages (from requests>=2.31->yfinance) (2025.1.31)\n"
          ]
        },
        {
          "output_type": "stream",
          "name": "stderr",
          "text": [
            "[*********************100%***********************]  1 of 1 completed\n",
            "[*********************100%***********************]  1 of 1 completed\n",
            "[*********************100%***********************]  1 of 1 completed\n",
            "[*********************100%***********************]  1 of 1 completed"
          ]
        },
        {
          "output_type": "stream",
          "name": "stdout",
          "text": [
            "\n",
            "日経平均 株価データ:\n",
            "Price              Close          High           Low          Open    Volume\n",
            "Ticker             ^N225         ^N225         ^N225         ^N225     ^N225\n",
            "Date                                                                        \n",
            "2023-01-04  25716.859375  25840.679688  25661.890625  25834.929688  83300000\n",
            "2023-01-05  25820.800781  25947.099609  25750.460938  25825.500000  72300000\n",
            "2023-01-06  25973.849609  26034.060547  25719.609375  25740.080078  68200000\n",
            "2023-01-10  26175.560547  26316.660156  26132.800781  26176.609375  71200000\n",
            "2023-01-11  26446.000000  26479.990234  26332.050781  26362.210938  62400000\n",
            "\n",
            "S&P 500 株価データ:\n",
            "Price             Close         High          Low         Open      Volume\n",
            "Ticker            ^GSPC        ^GSPC        ^GSPC        ^GSPC       ^GSPC\n",
            "Date                                                                      \n",
            "2023-01-03  3824.139893  3878.459961  3794.330078  3853.290039  3959140000\n",
            "2023-01-04  3852.969971  3873.159912  3815.770020  3840.360107  4414080000\n",
            "2023-01-05  3808.100098  3839.739990  3802.419922  3839.739990  3893450000\n",
            "2023-01-06  3895.080078  3906.189941  3809.560059  3823.370117  3923560000\n",
            "2023-01-09  3892.090088  3950.570068  3890.419922  3910.820068  4311770000\n",
            "\n",
            "NASDAQ 株価データ:\n",
            "Price              Close          High           Low          Open      Volume\n",
            "Ticker             ^IXIC         ^IXIC         ^IXIC         ^IXIC       ^IXIC\n",
            "Date                                                                          \n",
            "2023-01-03  10386.980469  10613.059570  10309.160156  10562.059570  4780650000\n",
            "2023-01-04  10458.759766  10515.219727  10337.639648  10467.820312  5085380000\n",
            "2023-01-05  10305.240234  10393.219727  10295.250000  10390.309570  4764270000\n",
            "2023-01-06  10569.290039  10604.139648  10265.040039  10363.959961  5199780000\n",
            "2023-01-09  10635.650391  10807.259766  10619.120117  10662.099609  5132190000\n",
            "\n",
            "ダウ平均 株価データ:\n",
            "Price              Close          High           Low          Open     Volume\n",
            "Ticker              ^DJI          ^DJI          ^DJI          ^DJI       ^DJI\n",
            "Date                                                                         \n",
            "2023-01-03  33136.371094  33387.519531  32850.570312  33148.898438  355930000\n",
            "2023-01-04  33269.769531  33409.101562  33033.480469  33165.140625  379400000\n",
            "2023-01-05  32930.078125  33191.718750  32812.328125  33191.718750  337920000\n",
            "2023-01-06  33630.609375  33710.660156  32997.390625  33055.300781  360740000\n",
            "2023-01-09  33517.648438  33935.109375  33487.660156  33664.390625  327840000\n"
          ]
        },
        {
          "output_type": "stream",
          "name": "stderr",
          "text": [
            "\n"
          ]
        }
      ],
      "source": [
        "# prompt: 日経平均株価、SP500、NASDAQ、ダウ平均のデータを収集したい\n",
        "\n",
        "!pip install yfinance\n",
        "\n",
        "import yfinance as yf\n",
        "import pandas as pd\n",
        "\n",
        "def get_stock_data(ticker, start_date, end_date):\n",
        "  \"\"\"\n",
        "  指定されたティッカーシンボル、開始日、終了日の株価データを取得します。\n",
        "\n",
        "  Args:\n",
        "    ticker: 株価データを取得するティッカーシンボル（例： \"^N225\" for 日経平均）。\n",
        "    start_date: データ取得の開始日（YYYY-MM-DD形式）。\n",
        "    end_date: データ取得の終了日（YYYY-MM-DD形式）。\n",
        "\n",
        "  Returns:\n",
        "    指定された期間の株価データを含むpandas.DataFrame。\n",
        "    エラーが発生した場合は、Noneを返します。\n",
        "  \"\"\"\n",
        "  try:\n",
        "    data = yf.download(ticker, start=start_date, end=end_date)\n",
        "    return data\n",
        "  except Exception as e:\n",
        "    print(f\"Error fetching data for {ticker}: {e}\")\n",
        "    return None\n",
        "\n",
        "# 株価データを取得するティッカーシンボルと期間を指定します\n",
        "tickers = {\n",
        "    \"日経平均\": \"^N225\",\n",
        "    \"S&P 500\": \"^GSPC\",\n",
        "    \"NASDAQ\": \"^IXIC\",\n",
        "    \"ダウ平均\": \"^DJI\"\n",
        "}\n",
        "start_date = \"2023-01-01\"\n",
        "end_date = \"2023-12-31\"\n",
        "\n",
        "# 各株価データを取得し、DataFrameに格納します\n",
        "stock_data = {}\n",
        "for name, ticker in tickers.items():\n",
        "    data = get_stock_data(ticker, start_date, end_date)\n",
        "    if data is not None:\n",
        "        stock_data[name] = data\n",
        "\n",
        "# 取得したデータを処理します（例：表示）\n",
        "for name, data in stock_data.items():\n",
        "    if data is not None:\n",
        "      print(f\"\\n{name} 株価データ:\")\n",
        "      print(data.head()) # 最初の5行を表示\n",
        "      # 必要なデータの分析や可視化を行うことができます\n",
        "\n",
        "# 必要に応じてデータをファイルに保存します。\n",
        "# 例えば、CSVファイルに保存：\n",
        "# for name, data in stock_data.items():\n",
        "#    if data is not None:\n",
        "#       data.to_csv(f\"{name}_stock_data.csv\")\n"
      ]
    },
    {
      "cell_type": "code",
      "source": [
        "# prompt: 為替(ドル円)のデータを収集したい\n",
        "\n",
        "\n",
        "# 為替データを取得するティッカーシンボルと期間を指定します\n",
        "ticker = \"USDJPY=X\"  # ドル円\n",
        "start_date = \"2023-01-01\"\n",
        "end_date = \"2023-12-31\"\n",
        "\n",
        "# 為替データを取得します\n",
        "forex_data = get_stock_data(ticker, start_date, end_date)\n",
        "\n",
        "# 取得したデータを処理します\n",
        "if forex_data is not None:\n",
        "    print(f\"\\nドル円 為替データ:\")\n",
        "    print(forex_data.head())\n",
        "    # 必要なデータの分析や可視化を行うことができます\n",
        "\n",
        "    # 必要に応じてデータをファイルに保存します。\n",
        "    # 例えば、CSVファイルに保存：\n",
        "    # forex_data.to_csv(\"USDJPY_forex_data.csv\")\n"
      ],
      "metadata": {
        "colab": {
          "base_uri": "https://localhost:8080/"
        },
        "id": "VmvscqrY_oX5",
        "outputId": "8ec2e048-b8d8-4988-8410-eae7875d65e5"
      },
      "execution_count": 3,
      "outputs": [
        {
          "output_type": "stream",
          "name": "stderr",
          "text": [
            "\r[*********************100%***********************]  1 of 1 completed"
          ]
        },
        {
          "output_type": "stream",
          "name": "stdout",
          "text": [
            "\n",
            "ドル円 為替データ:\n",
            "Price            Close        High         Low        Open   Volume\n",
            "Ticker        USDJPY=X    USDJPY=X    USDJPY=X    USDJPY=X USDJPY=X\n",
            "Date                                                               \n",
            "2023-01-02  130.845001  131.035004  130.621002  130.845001        0\n",
            "2023-01-03  130.794006  131.182007  129.533997  130.794006        0\n",
            "2023-01-04  131.248001  132.169998  129.964005  131.248001        0\n",
            "2023-01-05  132.246002  133.992004  131.729996  132.246002        0\n",
            "2023-01-06  133.307007  134.740997  132.186996  133.307007        0\n"
          ]
        },
        {
          "output_type": "stream",
          "name": "stderr",
          "text": [
            "\n"
          ]
        }
      ]
    },
    {
      "cell_type": "code",
      "source": [],
      "metadata": {
        "id": "GBpt59-NAzaV"
      },
      "execution_count": null,
      "outputs": []
    }
  ]
}